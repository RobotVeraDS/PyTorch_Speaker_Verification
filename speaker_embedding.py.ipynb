{
 "cells": [
  {
   "cell_type": "code",
   "execution_count": 65,
   "metadata": {},
   "outputs": [],
   "source": [
    "import glob\n",
    "import librosa\n",
    "import numpy as np\n",
    "import os\n",
    "import torch\n",
    "\n",
    "from hparam import hparam as hp\n",
    "from speech_embedder_net import SpeechEmbedder\n",
    "from VAD_segments import VAD_chunk\n",
    "from dvector_create import concat_segs, get_STFTs, align_embeddings\n",
    "import tqdm\n",
    "\n",
    "from scipy.spatial import distance\n",
    "from collections import Counter"
   ]
  },
  {
   "cell_type": "code",
   "execution_count": null,
   "metadata": {},
   "outputs": [],
   "source": [
    "device = torch.device(\"cuda\")"
   ]
  },
  {
   "cell_type": "code",
   "execution_count": 4,
   "metadata": {},
   "outputs": [
    {
     "data": {
      "text/plain": [
       "SpeechEmbedder(\n",
       "  (LSTM_stack): LSTM(40, 768, num_layers=3, batch_first=True)\n",
       "  (projection): Linear(in_features=768, out_features=256, bias=True)\n",
       ")"
      ]
     },
     "execution_count": 4,
     "metadata": {},
     "output_type": "execute_result"
    }
   ],
   "source": [
    "embedder_net = SpeechEmbedder()\n",
    "embedder_net.load_state_dict(torch.load(hp.model.model_path))\n",
    "embedder_net.eval()\n",
    "embedder_net.to(device)"
   ]
  },
  {
   "cell_type": "code",
   "execution_count": null,
   "metadata": {},
   "outputs": [
    {
     "data": {
      "application/vnd.jupyter.widget-view+json": {
       "model_id": "793c8d74517a46cfb73ac5c5d17cf354",
       "version_major": 2,
       "version_minor": 0
      },
      "text/plain": [
       "HBox(children=(IntProgress(value=0, max=2248), HTML(value='')))"
      ]
     },
     "metadata": {},
     "output_type": "display_data"
    }
   ],
   "source": [
    "wav_to_seq = {}\n",
    "wav_to_speaker = {}\n",
    "\n",
    "for file in tqdm.tqdm_notebook(glob.glob(\"./data/*/16/*wav\")):\n",
    "    times, segs = VAD_chunk(2, file)\n",
    "\n",
    "    if not len(segs):\n",
    "        print('No voice activity detected')\n",
    "        continue\n",
    "\n",
    "    concat_seg = concat_segs(times, segs)\n",
    "    STFT_frames = get_STFTs(concat_seg)\n",
    "    STFT_frames = np.stack(STFT_frames, axis=2)\n",
    "    STFT_frames = torch.tensor(np.transpose(STFT_frames, axes=(2,1,0)))\n",
    "    embeddings = embedder_net(STFT_frames.to(device))\n",
    "    aligned_embeddings = align_embeddings(embeddings.detach().cpu().numpy())\n",
    "\n",
    "    file_name = os.path.basename(file)\n",
    "    speaker_name = os.path.dirname(file).split(\"/\")[2]\n",
    "    wav_to_seq[file_name] = aligned_embeddings\n",
    "    wav_to_speaker[file_name] = speaker_name"
   ]
  },
  {
   "cell_type": "markdown",
   "metadata": {},
   "source": [
    "### Load etalons"
   ]
  },
  {
   "cell_type": "code",
   "execution_count": 49,
   "metadata": {},
   "outputs": [],
   "source": [
    "etalons = {\n",
    "    \"ruslan\": wav_to_seq[\"007458_RUSLAN.wav\"],\n",
    "    \"navalny\": wav_to_seq[\"4a23b379-abd9-4e6a-a58f-6fac50475292.wav\"],\n",
    "    \"urgant\": wav_to_seq[\"5191d6cf-46c3-4815-a27e-816b672c525b.wav\"]\n",
    "}"
   ]
  },
  {
   "cell_type": "code",
   "execution_count": 86,
   "metadata": {},
   "outputs": [],
   "source": [
    "def get_speakers(sequence, max_dist=0.4, min_speaker_ratio=0.6):\n",
    "    results = []\n",
    "    \n",
    "    for seq in sequence:\n",
    "        min_dist, min_etalon = None, None\n",
    "        for etalon in etalons:\n",
    "            etalon_dist = np.mean([distance.cosine(seq, etalon_seq) for etalon_seq in etalons[etalon]])\n",
    "            if (min_dist is None and etalon_dist <= max_dist) or (min_dist is not None and etalon_dist < min_dist):\n",
    "                min_dist = etalon_dist\n",
    "                min_etalon = etalon\n",
    "            \n",
    "        if min_etalon is not None:\n",
    "            results.append(min_etalon)\n",
    "        else:\n",
    "            results.append(\"unknown\")\n",
    "           \n",
    "    print(results)\n",
    "    counts = Counter(results)\n",
    "    most_common = counts.most_common(1)[0]\n",
    "    if most_common[0] != \"unknown\" and (most_common[1] / len(results)) >= min_speaker_ratio:\n",
    "        return most_common[0]\n",
    "    else:\n",
    "        return None"
   ]
  },
  {
   "cell_type": "code",
   "execution_count": 87,
   "metadata": {},
   "outputs": [
    {
     "name": "stdout",
     "output_type": "stream",
     "text": [
      "['ruslan', 'ruslan', 'ruslan', 'ruslan', 'ruslan', 'ruslan', 'unknown', 'ruslan', 'ruslan', 'ruslan', 'unknown', 'ruslan', 'ruslan', 'ruslan']\n"
     ]
    },
    {
     "data": {
      "text/plain": [
       "'ruslan'"
      ]
     },
     "execution_count": 87,
     "metadata": {},
     "output_type": "execute_result"
    }
   ],
   "source": [
    "get_speakers(wav_to_seq[\"011158_RUSLAN.wav\"])"
   ]
  }
 ],
 "metadata": {
  "kernelspec": {
   "display_name": "Python 3",
   "language": "python",
   "name": "python3"
  },
  "language_info": {
   "codemirror_mode": {
    "name": "ipython",
    "version": 3
   },
   "file_extension": ".py",
   "mimetype": "text/x-python",
   "name": "python",
   "nbconvert_exporter": "python",
   "pygments_lexer": "ipython3",
   "version": "3.6.7"
  }
 },
 "nbformat": 4,
 "nbformat_minor": 2
}
